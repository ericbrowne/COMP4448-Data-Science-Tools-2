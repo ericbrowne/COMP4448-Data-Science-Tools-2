{
 "cells": [
  {
   "cell_type": "markdown",
   "metadata": {},
   "source": [
    "# <center> Decision Tree Classifier, Random Forest:  Titanic Datset </center>\n",
    "<center> University of Denver </center>\n",
    "<center> Eric Browne </center>"
   ]
  },
  {
   "cell_type": "markdown",
   "metadata": {},
   "source": [
    "# Uploading the Data"
   ]
  },
  {
   "cell_type": "code",
   "execution_count": null,
   "metadata": {},
   "outputs": [],
   "source": [
    "train = pd.read_csv('titanic_train.csv')\n",
    "test = pd.read_csv('titanic_test.csv')\n",
    "titanic = pd.concat([train,test],axis=0,ignore_index=True)"
   ]
  },
  {
   "cell_type": "code",
   "execution_count": null,
   "metadata": {},
   "outputs": [],
   "source": [
    "print(titanic.shape)\n",
    "print(titanic.head())"
   ]
  },
  {
   "cell_type": "markdown",
   "metadata": {},
   "source": [
    "# Data Preprocessing "
   ]
  },
  {
   "cell_type": "code",
   "execution_count": null,
   "metadata": {},
   "outputs": [],
   "source": [
    "titanic.isnull().sum()"
   ]
  },
  {
   "cell_type": "code",
   "execution_count": null,
   "metadata": {},
   "outputs": [],
   "source": [
    "titanic.dtypes"
   ]
  },
  {
   "cell_type": "code",
   "execution_count": null,
   "metadata": {},
   "outputs": [],
   "source": [
    "titanic.drop(['PassengerId','Ticket','Cabin','Name','Embarked','Sex'],axis=1,inplace=True)"
   ]
  },
  {
   "cell_type": "code",
   "execution_count": null,
   "metadata": {},
   "outputs": [],
   "source": [
    "titanic.dropna(axis=0,inplace=True)"
   ]
  },
  {
   "cell_type": "code",
   "execution_count": null,
   "metadata": {},
   "outputs": [],
   "source": [
    "titanic.shape"
   ]
  },
  {
   "cell_type": "markdown",
   "metadata": {},
   "source": [
    "# Data Splitting "
   ]
  },
  {
   "cell_type": "code",
   "execution_count": null,
   "metadata": {},
   "outputs": [],
   "source": [
    "X = titanic.drop('Survived',axis=1)\n",
    "y = titanic['Survived']"
   ]
  },
  {
   "cell_type": "code",
   "execution_count": null,
   "metadata": {},
   "outputs": [],
   "source": [
    "X_train, X_test, y_train, y_test = train_test_split(X,y,test_size=0.3,random_state=420)\n",
    "print(X_train.shape)\n",
    "print(X_test.shape)\n",
    "print(y_train.shape)\n",
    "print(y_test.shape)"
   ]
  },
  {
   "cell_type": "markdown",
   "metadata": {},
   "source": [
    "# Model Building "
   ]
  },
  {
   "cell_type": "code",
   "execution_count": null,
   "metadata": {},
   "outputs": [],
   "source": [
    "dt = DecisionTreeClassifier(random_state=0)\n",
    "rf = RandomForestClassifier(random_state=0)\n",
    "\n",
    "dt.fit(X_train,y_train)\n",
    "rf.fit(X_train,y_train)\n",
    "\n",
    "dt_preds_train = dt.predict(X_train)\n",
    "rf_preds_train = rf.predict(X_train)\n",
    "dt_preds_test = dt.predict(X_test)\n",
    "rf_preds_test = rf.predict(X_test)\n",
    "print(f'DT Training Accuracy: {accuracy_score(dt_preds_train,y_train)}')\n",
    "print(f'RF Training Accuracy: {accuracy_score(dt_preds_train,y_train)}')\n",
    "\n",
    "print(f'DT Test Accuracy: {accuracy_score(dt_preds_test,y_test)}')\n",
    "print(f'RF Test Accuracy: {accuracy_score(rf_preds_test,y_test)}')"
   ]
  },
  {
   "cell_type": "code",
   "execution_count": null,
   "metadata": {},
   "outputs": [],
   "source": [
    "## Decision Tree:\n",
    "dt.get_params()"
   ]
  },
  {
   "cell_type": "code",
   "execution_count": null,
   "metadata": {},
   "outputs": [],
   "source": [
    "# Going to tune: max_depth, max_features, criterion\n",
    "params = {'max_depth': list(range(1,20)),'max_features':[0.2,0.4,0.6,0.8,1.0],'criterion':['gini','entropy']}\n",
    "grid_dt = GridSearchCV(estimator=dt, param_grid=params, scoring='accuracy', cv=8)\n",
    "grid_dt = grid_dt.fit(X_train, y_train)\n",
    "print(grid_dt.best_params_)"
   ]
  },
  {
   "cell_type": "code",
   "execution_count": null,
   "metadata": {},
   "outputs": [],
   "source": [
    "## Random Forest:\n",
    "print(rf.get_params())\n",
    "# Going to tune: bootstrap, max_features, criterion\n",
    "params = {'bootstrap': [True,False],'max_features':['auto','sqrt','log2'],'criterion':['gini','entropy']}\n",
    "gridrf = GridSearchCV(estimator=rf, param_grid=params, scoring='accuracy', cv=8)\n",
    "gridrf = gridrf.fit(X_train, y_train)\n",
    "print(gridrf.best_params_)\n"
   ]
  },
  {
   "cell_type": "markdown",
   "metadata": {},
   "source": [
    "# Model Evaluation "
   ]
  },
  {
   "cell_type": "code",
   "execution_count": null,
   "metadata": {},
   "outputs": [],
   "source": [
    "## Decision Tree:\n",
    "final_dt = grid_dt.best_estimator_\n",
    "final_dt_preds = final_dt.predict(X_test)\n",
    "final_dt_preds_train = final_dt.predict(X_train)\n",
    "dt_acc_train = accuracy_score(final_dt_preds_train,y_train)\n",
    "dt_acc_test = accuracy_score(final_dt_preds,y_test)\n",
    "print(dt_acc_train)\n",
    "print(dt_acc_test)"
   ]
  },
  {
   "cell_type": "code",
   "execution_count": null,
   "metadata": {},
   "outputs": [],
   "source": [
    "## Random Forest\n",
    "final_rf = gridrf.best_estimator_\n",
    "final_rf_preds = final_rf.predict(X_test)\n",
    "final_rf_preds_train = final_rf.predict(X_train)\n",
    "rf_acc = accuracy_score(final_rf_preds,y_test)\n",
    "rf_acc_train = accuracy_score(final_rf_preds_train,y_train)\n",
    "print(rf_acc_train)\n",
    "print(rf_acc)\n"
   ]
  },
  {
   "cell_type": "markdown",
   "metadata": {},
   "source": [
    "# Conclusion "
   ]
  },
  {
   "cell_type": "markdown",
   "metadata": {},
   "source": [
    "**The Random Forest seemed to overfit the data at a much higher extent than the Decision Tree; and overall, the Decision Tree even out performed the Random Forest in Test Accuracy.  I believe that this is because the Decision Tree is a much simpler model than the Random Forest (an ensemble of Decision Trees).**"
   ]
  }
 ],
 "metadata": {
  "kernelspec": {
   "display_name": "Python 3",
   "language": "python",
   "name": "python3"
  },
  "language_info": {
   "codemirror_mode": {
    "name": "ipython",
    "version": 3
   },
   "file_extension": ".py",
   "mimetype": "text/x-python",
   "name": "python",
   "nbconvert_exporter": "python",
   "pygments_lexer": "ipython3",
   "version": "3.8.5"
  }
 },
 "nbformat": 4,
 "nbformat_minor": 4
}
