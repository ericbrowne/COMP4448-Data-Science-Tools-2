{
 "cells": [
  {
   "cell_type": "markdown",
   "metadata": {},
   "source": [
    "# <center> Kmeans Clustering Regressor:  Boston Housing Dataset </center>\n",
    "<center> University of Denver </center>\n",
    "<center> Eric Browne </center>"
   ]
  },
  {
   "cell_type": "markdown",
   "metadata": {},
   "source": [
    "# Uploading the Data"
   ]
  },
  {
   "cell_type": "code",
   "execution_count": null,
   "metadata": {},
   "outputs": [],
   "source": [
    "import numpy as np\n",
    "import pandas as pd\n",
    "import matplotlib.pyplot as plt\n",
    "import seaborn as sns\n",
    "from sklearn.neighbors import KNeighborsRegressor\n",
    "from sklearn.preprocessing import StandardScaler\n",
    "from sklearn.model_selection import GridSearchCV\n",
    "from sklearn.model_selection import train_test_split"
   ]
  },
  {
   "cell_type": "code",
   "execution_count": null,
   "metadata": {},
   "outputs": [],
   "source": [
    "## import dataset:\n",
    "from sklearn.datasets import load_boston\n",
    "boston = load_boston()"
   ]
  },
  {
   "cell_type": "code",
   "execution_count": null,
   "metadata": {},
   "outputs": [],
   "source": [
    "print(boston.keys())\n",
    "print(boston['DESCR'])\n",
    "print(boston['feature_names'])"
   ]
  },
  {
   "cell_type": "code",
   "execution_count": null,
   "metadata": {},
   "outputs": [],
   "source": [
    "# Setting up a features dataset to scale/split into Train,Test\n",
    "features = pd.DataFrame(boston['data'])\n",
    "features.columns = boston.feature_names\n",
    "features.head()\n",
    "\n",
    "# Setting up a labels dataset to split into Train,Test\n",
    "labels = pd.DataFrame(boston['target'])\n",
    "labels.columns = ['MEDV']"
   ]
  },
  {
   "cell_type": "code",
   "execution_count": null,
   "metadata": {},
   "outputs": [],
   "source": [
    "# Initializing a standard scaler\n",
    "# and fitting it\n",
    "scaler = StandardScaler()\n",
    "scaler.fit(features.drop('RAD',axis=1))\n"
   ]
  },
  {
   "cell_type": "markdown",
   "metadata": {},
   "source": [
    "# Data Preprocessing "
   ]
  },
  {
   "cell_type": "code",
   "execution_count": null,
   "metadata": {},
   "outputs": [],
   "source": [
    "features[['CRIM','ZN','INDUS','CHAS','NOX','RM','AGE','DIS','TAX','PTRATIO','B','LSTAT']] = scaler.transform(features[['CRIM','ZN','INDUS','CHAS','NOX','RM','AGE','DIS','TAX','PTRATIO','B','LSTAT']])"
   ]
  },
  {
   "cell_type": "code",
   "execution_count": null,
   "metadata": {},
   "outputs": [],
   "source": [
    "features.head()"
   ]
  },
  {
   "cell_type": "markdown",
   "metadata": {},
   "source": [
    "# Data Splitting "
   ]
  },
  {
   "cell_type": "code",
   "execution_count": null,
   "metadata": {},
   "outputs": [],
   "source": [
    "# Splitting into Test and Training sets:\n",
    "features_train,features_test, label_train, label_test = train_test_split(features, labels, test_size=0.3,random_state=420)\n",
    "\n",
    "print(f\"features_train: {features_train.shape}\")\n",
    "print(f\"features_test: {features_test.shape}\")\n",
    "print(f\"label_train: {label_train.shape}\")\n",
    "print(f\"label_test: {label_test.shape}\")"
   ]
  },
  {
   "cell_type": "code",
   "execution_count": null,
   "metadata": {},
   "outputs": [],
   "source": [
    "label_train.head()"
   ]
  },
  {
   "cell_type": "markdown",
   "metadata": {},
   "source": [
    "# Model Building "
   ]
  },
  {
   "cell_type": "code",
   "execution_count": null,
   "metadata": {},
   "outputs": [],
   "source": [
    "## Construction of a KNN (K-nearest-neighbor) algorithm:\n",
    "knn = KNeighborsRegressor()\n",
    "knn.fit(features_train,label_train)\n",
    "knn_train_preds = knn.predict(features_train)\n",
    "print(f\"MSE of KNN on training set: {mean_squared_error(knn_train_preds,label_train)}\")"
   ]
  },
  {
   "cell_type": "code",
   "execution_count": null,
   "metadata": {},
   "outputs": [],
   "source": [
    "## Hyper parameters to tune: \n",
    "# 1. weights: {'uniform','distance'}\n",
    "# 2. p: [1,2]\n",
    "# 3. algorithm: {‘auto’, ‘ball_tree’, ‘kd_tree’, ‘brute’}\n",
    "parameters = [{'weights':['uniform','distance'],\n",
    "              'p':[1,2],\n",
    "              'algorithm':['auto','ball_tree','kd_tree','brute']}]\n",
    "\n",
    "gridCV = GridSearchCV(estimator=knn,param_grid=parameters,cv=6,scoring='neg_mean_squared_error')\n",
    "gridCV.fit(features_train,label_train)"
   ]
  },
  {
   "cell_type": "code",
   "execution_count": null,
   "metadata": {},
   "outputs": [],
   "source": [
    "best_params=gridCV.best_params_\n",
    "print(best_params)"
   ]
  },
  {
   "cell_type": "markdown",
   "metadata": {},
   "source": [
    "# Model Evaluation "
   ]
  },
  {
   "cell_type": "code",
   "execution_count": null,
   "metadata": {},
   "outputs": [],
   "source": [
    "final_model = gridCV.best_estimator_\n",
    "print(final_model)"
   ]
  },
  {
   "cell_type": "code",
   "execution_count": null,
   "metadata": {},
   "outputs": [],
   "source": [
    "final_preds = final_model.predict(features_test)\n",
    "print(f'Final MSE on test set: {mean_squared_error(final_preds,label_test)}')"
   ]
  },
  {
   "cell_type": "markdown",
   "metadata": {},
   "source": [
    "# Conclusion "
   ]
  },
  {
   "cell_type": "markdown",
   "metadata": {},
   "source": [
    "**With the difference in Test MSE and Train MSE being: 0.173, I do not think that the model is overfitting, but rather just an all around decent model.  This is most likely because houses with very similar qualities tend to also be around the same price.**"
   ]
  }
 ],
 "metadata": {
  "kernelspec": {
   "display_name": "Python 3",
   "language": "python",
   "name": "python3"
  },
  "language_info": {
   "codemirror_mode": {
    "name": "ipython",
    "version": 3
   },
   "file_extension": ".py",
   "mimetype": "text/x-python",
   "name": "python",
   "nbconvert_exporter": "python",
   "pygments_lexer": "ipython3",
   "version": "3.8.5"
  }
 },
 "nbformat": 4,
 "nbformat_minor": 4
}
